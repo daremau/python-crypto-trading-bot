{
 "cells": [
  {
   "cell_type": "code",
   "execution_count": 16,
   "metadata": {},
   "outputs": [],
   "source": [
    "from binance.client import Client\n",
    "import time\n",
    "from dotenv import load_dotenv\n",
    "import os"
   ]
  },
  {
   "cell_type": "code",
   "execution_count": 17,
   "metadata": {},
   "outputs": [],
   "source": [
    "load_dotenv()\n",
    "API_KEY = os.getenv('API_KEY')\n",
    "SECRET_KEY = os.getenv('SECRET_KEY')"
   ]
  },
  {
   "cell_type": "code",
   "execution_count": 18,
   "metadata": {},
   "outputs": [],
   "source": [
    "client = Client(API_KEY, SECRET_KEY, testnet=True)"
   ]
  },
  {
   "cell_type": "code",
   "execution_count": null,
   "metadata": {},
   "outputs": [],
   "source": [
    "client.get_account()"
   ]
  },
  {
   "cell_type": "code",
   "execution_count": 20,
   "metadata": {},
   "outputs": [],
   "source": [
    "symbol = 'BTCUSDT'\n",
    "buy_price_thresh = 60000\n",
    "sell_price_thresh = 68000\n",
    "trade_quantity = 0.001"
   ]
  },
  {
   "cell_type": "code",
   "execution_count": 21,
   "metadata": {},
   "outputs": [],
   "source": [
    "def get_current_price(symbol):\n",
    "    ticker = client.get_symbol_ticker(symbol=symbol)\n",
    "    return float(ticker['price'])"
   ]
  },
  {
   "cell_type": "code",
   "execution_count": null,
   "metadata": {},
   "outputs": [],
   "source": [
    "get_current_price(symbol)"
   ]
  },
  {
   "cell_type": "code",
   "execution_count": 23,
   "metadata": {},
   "outputs": [],
   "source": [
    "def place_buy_order(symbol, quantity):\n",
    "    order = client.order_market_buy(symbol=symbol, quantity=quantity)\n",
    "    print(f\"Buy order done: {order}\")"
   ]
  },
  {
   "cell_type": "code",
   "execution_count": null,
   "metadata": {},
   "outputs": [],
   "source": [
    "place_buy_order(symbol, trade_quantity)"
   ]
  },
  {
   "cell_type": "code",
   "execution_count": 25,
   "metadata": {},
   "outputs": [],
   "source": [
    "def place_sell_order(symbol, quantity):\n",
    "    order = client.order_market_sell(symbol=symbol, quantity=quantity)\n",
    "    print(f\"Sell order done: {order}\")"
   ]
  },
  {
   "cell_type": "code",
   "execution_count": null,
   "metadata": {},
   "outputs": [],
   "source": [
    "place_sell_order(symbol, trade_quantity)"
   ]
  },
  {
   "cell_type": "code",
   "execution_count": 32,
   "metadata": {},
   "outputs": [],
   "source": [
    "def trading_bot():\n",
    "    in_position = False\n",
    "\n",
    "    while True:\n",
    "        current_price = get_current_price(symbol)\n",
    "        print(f\"Current price of {symbol}: {current_price}\")\n",
    "\n",
    "        if not in_position:\n",
    "            if current_price < buy_price_thresh:\n",
    "                print(f\"Price is below {buy_price_thresh}. Placing buy order\")\n",
    "                place_buy_order(symbol, trade_quantity)\n",
    "                in_position = True\n",
    "        else:\n",
    "            if current_price > buy_price_thresh:\n",
    "                print(f\"Price is above {sell_price_thresh}. Placing sell order\")\n",
    "                place_sell_order(symbol, trade_quantity)\n",
    "                in_position = False\n",
    "\n",
    "        time.sleep(3)"
   ]
  },
  {
   "cell_type": "code",
   "execution_count": null,
   "metadata": {},
   "outputs": [],
   "source": [
    "trading_bot()"
   ]
  }
 ],
 "metadata": {
  "kernelspec": {
   "display_name": ".venv",
   "language": "python",
   "name": "python3"
  },
  "language_info": {
   "codemirror_mode": {
    "name": "ipython",
    "version": 3
   },
   "file_extension": ".py",
   "mimetype": "text/x-python",
   "name": "python",
   "nbconvert_exporter": "python",
   "pygments_lexer": "ipython3",
   "version": "3.12.1"
  }
 },
 "nbformat": 4,
 "nbformat_minor": 2
}
